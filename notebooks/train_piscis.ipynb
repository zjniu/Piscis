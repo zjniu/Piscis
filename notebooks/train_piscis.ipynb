{
 "cells": [
  {
   "cell_type": "markdown",
   "id": "4d7bea06-e332-4818-8d23-6ee426e1a53d",
   "metadata": {},
   "source": [
    "# Train Piscis"
   ]
  },
  {
   "cell_type": "code",
   "execution_count": null,
   "id": "6f5a34c6-05a8-4287-a5e2-384a37c553ab",
   "metadata": {},
   "outputs": [],
   "source": [
    "from piscis.downloads import download_dataset\n",
    "from piscis.training import train_model"
   ]
  },
  {
   "cell_type": "code",
   "execution_count": null,
   "id": "56430616-1213-4ef0-af68-90f488822e64",
   "metadata": {},
   "outputs": [],
   "source": [
    "# Download the Piscis dataset.\n",
    "download_dataset('20230905', '')"
   ]
  },
  {
   "cell_type": "code",
   "execution_count": null,
   "id": "c0e9d232-e68e-4546-ad48-888253d03ea8",
   "metadata": {},
   "outputs": [],
   "source": [
    "# Train a new Piscis model.\n",
    "train_model(\n",
    "    model_name='new_model',\n",
    "    dataset_path='20230905',\n",
    "    adjustment='standardize',\n",
    "    input_size=(256, 256),\n",
    "    random_seed=0,\n",
    "    batch_size=4,\n",
    "    learning_rate=0.2,\n",
    "    weight_decay=1e-4,\n",
    "    dropout_rate=0.2,\n",
    "    epochs=400,\n",
    "    warmup_fraction=0.05,\n",
    "    decay_fraction=0.5,\n",
    "    decay_transitions=10,\n",
    "    decay_factor=0.5,\n",
    "    dilation_iterations=1,\n",
    "    max_distance=3.0,\n",
    "    loss_weights={'l2': 0.25, 'smoothf1': 1.0}\n",
    ")"
   ]
  },
  {
   "cell_type": "code",
   "execution_count": null,
   "id": "7127fee7-3688-41d6-8efd-c07f15da19af",
   "metadata": {},
   "outputs": [],
   "source": []
  }
 ],
 "metadata": {
  "kernelspec": {
   "display_name": "Python 3 (ipykernel)",
   "language": "python",
   "name": "python3"
  },
  "language_info": {
   "codemirror_mode": {
    "name": "ipython",
    "version": 3
   },
   "file_extension": ".py",
   "mimetype": "text/x-python",
   "name": "python",
   "nbconvert_exporter": "python",
   "pygments_lexer": "ipython3",
   "version": "3.11.5"
  }
 },
 "nbformat": 4,
 "nbformat_minor": 5
}
