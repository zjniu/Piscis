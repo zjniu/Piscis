{
 "cells": [
  {
   "cell_type": "markdown",
   "id": "b694c603-1df0-420e-af3a-8ccfccfdf6e5",
   "metadata": {},
   "source": [
    "# Download Datasets"
   ]
  },
  {
   "cell_type": "code",
   "execution_count": null,
   "id": "d7c7418b-5325-4912-844f-f196f126c902",
   "metadata": {},
   "outputs": [],
   "source": [
    "!pip install piscis"
   ]
  },
  {
   "cell_type": "code",
   "execution_count": null,
   "id": "600fb016-12fb-4f46-a7f5-9e8384ef4886",
   "metadata": {},
   "outputs": [],
   "source": [
    "import requests\n",
    "\n",
    "from pathlib import Path\n",
    "\n",
    "from piscis.downloads import download_dataset"
   ]
  },
  {
   "cell_type": "code",
   "execution_count": null,
   "id": "47d49436-6f3a-4b97-8ef8-0496e6e533c1",
   "metadata": {},
   "outputs": [],
   "source": [
    "# Define path to outputs.\n",
    "outputs_path = Path().absolute().parent / 'outputs'\n",
    "outputs_path.mkdir(parents=True, exist_ok=True)\n",
    "\n",
    "# Define path to datasets.\n",
    "datasets_path = outputs_path / 'datasets'\n",
    "datasets_path.mkdir(parents=True, exist_ok=True)\n",
    "\n",
    "# Define path to Piscis datasets.\n",
    "piscis_datasets_path = datasets_path / 'piscis'\n",
    "piscis_datasets_path.mkdir(parents=True, exist_ok=True)\n",
    "\n",
    "# Define path to deepBlink datasets.\n",
    "deepblink_datasets_path = datasets_path / 'deepblink'\n",
    "deepblink_datasets_path.mkdir(parents=True, exist_ok=True)"
   ]
  },
  {
   "cell_type": "markdown",
   "id": "4a23f48f-708a-439b-9a5b-f2bc7dd2a0ca",
   "metadata": {},
   "source": [
    "### Download the Piscis dataset."
   ]
  },
  {
   "cell_type": "code",
   "execution_count": null,
   "id": "794d149a-91c3-45f6-b2f2-890a37fbcd0f",
   "metadata": {},
   "outputs": [],
   "source": [
    "dataset = '20230905'\n",
    "if not (piscis_datasets_path / dataset).is_dir():\n",
    "    download_dataset(dataset, piscis_datasets_path)"
   ]
  },
  {
   "cell_type": "markdown",
   "id": "0463e6d6-b16c-4b72-a5eb-4d4ed92618d9",
   "metadata": {},
   "source": [
    "### Download the deepBlink datasets."
   ]
  },
  {
   "cell_type": "code",
   "execution_count": null,
   "id": "68e38785-43c0-44d5-9f9f-7e99b7fdcb81",
   "metadata": {},
   "outputs": [],
   "source": [
    "# Define the URL for the Figshare API.\n",
    "api_url = f'https://api.figshare.com/v2/articles/12958037'\n",
    "\n",
    "# Get a list of files from Figshare.\n",
    "files = requests.get(api_url).json()['files']\n",
    "\n",
    "for file in files:\n",
    "    file_name = file['name']\n",
    "    if file_name.endswith('.npz'):\n",
    "        download_url = file['download_url']\n",
    "        response = requests.get(download_url, stream=True)\n",
    "        response.raise_for_status()\n",
    "        deepblink_dataset_path = deepblink_datasets_path / file_name\n",
    "        if not deepblink_dataset_path.exists():\n",
    "            with open(deepblink_dataset_path, 'wb') as handle:\n",
    "                for block in response.iter_content(1024):\n",
    "                    handle.write(block)"
   ]
  },
  {
   "cell_type": "code",
   "execution_count": null,
   "id": "536c1d02-4717-48fb-84e2-a799808e9181",
   "metadata": {},
   "outputs": [],
   "source": []
  }
 ],
 "metadata": {
  "kernelspec": {
   "display_name": "Python 3 (ipykernel)",
   "language": "python",
   "name": "python3"
  },
  "language_info": {
   "codemirror_mode": {
    "name": "ipython",
    "version": 3
   },
   "file_extension": ".py",
   "mimetype": "text/x-python",
   "name": "python",
   "nbconvert_exporter": "python",
   "pygments_lexer": "ipython3",
   "version": "3.11.5"
  }
 },
 "nbformat": 4,
 "nbformat_minor": 5
}
