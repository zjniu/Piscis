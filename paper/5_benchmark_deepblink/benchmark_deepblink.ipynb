{
 "cells": [
  {
   "cell_type": "markdown",
   "id": "d1e231e2-c3bc-4256-bb6a-a10d5a84a81a",
   "metadata": {},
   "source": [
    "# Benchmark deepBlink"
   ]
  },
  {
   "cell_type": "code",
   "execution_count": null,
   "id": "f88ce420-d606-427a-9437-efda90eae5a8",
   "metadata": {},
   "outputs": [],
   "source": [
    "import json\n",
    "import numpy as np\n",
    "import requests\n",
    "\n",
    "from deepblink.io import load_model\n",
    "from deepblink.inference import predict\n",
    "from itertools import chain\n",
    "from pathlib import Path\n",
    "\n",
    "from piscis.data import load_datasets, transform_subdataset\n",
    "from piscis.metrics import compute_metrics\n",
    "from piscis.utils import pad_and_stack"
   ]
  },
  {
   "cell_type": "code",
   "execution_count": null,
   "id": "d355561e-d6a2-4188-9f54-df657195c9a3",
   "metadata": {},
   "outputs": [],
   "source": [
    "# Define path to outputs folder.\n",
    "outputs_path = Path().absolute().parent / 'outputs'\n",
    "\n",
    "# Define paths to datasets.\n",
    "datasets_path = outputs_path / 'datasets'\n",
    "piscis_datasets_path = datasets_path / 'piscis'\n",
    "deepblink_datasets_path = datasets_path / 'deepblink'\n",
    "\n",
    "# Define path to deepBlink models.\n",
    "deepblink_models_path = outputs_path / 'deepblink_models'\n",
    "\n",
    "# Define path to benchmarks.\n",
    "benchmarks_path = outputs_path / 'benchmarks'\n",
    "benchmarks_path.mkdir(parents=True, exist_ok=True)"
   ]
  },
  {
   "cell_type": "markdown",
   "id": "5a667f05-bfe7-412e-8408-b6198b95a47e",
   "metadata": {},
   "source": [
    "### Run and benchmark deepBlink on Piscis dataset."
   ]
  },
  {
   "cell_type": "code",
   "execution_count": null,
   "id": "27a2d4b0-1d4a-4511-a3a9-aac15e07a692",
   "metadata": {},
   "outputs": [],
   "source": [
    "# Create a dictionary for F1 scores.\n",
    "f1s = {}"
   ]
  },
  {
   "cell_type": "code",
   "execution_count": null,
   "id": "6079a8c0-29fd-4d6d-8c41-446edb4291d5",
   "metadata": {},
   "outputs": [],
   "source": [
    "# List subdatasets within the composite dataset.\n",
    "dataset = '20230905'\n",
    "subdataset_paths = Path(piscis_datasets_path / dataset).glob('*.npz')"
   ]
  },
  {
   "cell_type": "code",
   "execution_count": null,
   "id": "fb439b52-7e7e-4878-89ce-f981f4956e11",
   "metadata": {
    "scrolled": true
   },
   "outputs": [],
   "source": [
    "dataset_f1s = {}\n",
    "f1s[dataset] = dataset_f1s\n",
    "for subdataset_path in subdataset_paths:\n",
    "\n",
    "    subdataset = subdataset_path.stem\n",
    "\n",
    "    # Load the test dataset.\n",
    "    test_ds = load_datasets(subdataset_path, load_train=False, load_valid=False, load_test=True)['test']\n",
    "    images = pad_and_stack(test_ds['images']).squeeze()\n",
    "    test_ds['images'] = images\n",
    "    coords = test_ds['coords']\n",
    "\n",
    "    subdataset_f1s = {}\n",
    "    dataset_f1s[subdataset] = subdataset_f1s\n",
    "\n",
    "    for deepblink_model_path in deepblink_models_path.glob(f'*{dataset}*.h5'):\n",
    "\n",
    "        # Load the deepBlink model.\n",
    "        model = load_model(deepblink_model_path)\n",
    "    \n",
    "        cell_size_f1s = []\n",
    "        subdataset_f1s[deepblink_model_path.stem.split(f'{dataset}_')[-1]] = cell_size_f1s\n",
    "    \n",
    "        for image, c in zip(images, coords):\n",
    "\n",
    "            # Run the deepBlink model.\n",
    "            c_pred = predict(image, model)\n",
    "        \n",
    "            if (c_pred.size > 0) and (c.size > 0):\n",
    "                f1 = compute_metrics(c_pred, c, distance_thresholds=np.linspace(0, 3, 50))['f1']\n",
    "            else:\n",
    "                f1 = 0\n",
    "                \n",
    "            cell_size_f1s.append(f1)\n",
    "\n",
    "    with open(benchmarks_path / 'deepblink_f1s.json', 'w') as f:\n",
    "        json.dump(f1s, f)"
   ]
  },
  {
   "cell_type": "markdown",
   "id": "e16cc9a7-5e09-4b7f-b136-5955f0b53012",
   "metadata": {},
   "source": [
    "### Run and benchmark deepBlink on deepBlink datasets."
   ]
  },
  {
   "cell_type": "code",
   "execution_count": null,
   "id": "f52091aa-ae47-4c69-aa6b-791916a8ad93",
   "metadata": {
    "scrolled": true
   },
   "outputs": [],
   "source": [
    "for deepblink_dataset_path in deepblink_datasets_path.glob('*.npz'):\n",
    "\n",
    "    deepblink_dataset = deepblink_dataset_path.stem\n",
    "\n",
    "    # Load the test dataset.\n",
    "    test_ds = load_datasets(deepblink_dataset_path, load_train=False, load_valid=False, load_test=True)['test']\n",
    "    test_ds = transform_subdataset(test_ds, (512, 512), min_spots=1)\n",
    "    images = test_ds['images'].squeeze()\n",
    "    coords = test_ds['coords']\n",
    "\n",
    "    # Load the deepBlink model.\n",
    "    model = load_model(deepblink_models_path / f'deepblink_{deepblink_dataset}.h5')\n",
    "\n",
    "    deepblink_dataset_f1s = []\n",
    "    f1s[deepblink_dataset] = deepblink_dataset_f1s\n",
    "\n",
    "    for image, c in zip(images, coords):\n",
    "\n",
    "        # Run the deepBlink model.\n",
    "        c_pred = predict(image, model)\n",
    "    \n",
    "        if (c_pred.size > 0) and (c.size > 0):\n",
    "            f1 = compute_metrics(c_pred, c, distance_thresholds=np.linspace(0, 3, 50), return_df=False)['f1']\n",
    "        else:\n",
    "            f1 = 0\n",
    "            \n",
    "        deepblink_dataset_f1s.append(f1)\n",
    "\n",
    "    with open(benchmarks_path / 'deepblink_f1s.json', 'w') as f:\n",
    "        json.dump(f1s, f)"
   ]
  },
  {
   "cell_type": "code",
   "execution_count": null,
   "id": "d5d5c023-3b4c-4f73-bd98-a3bb56c51bc8",
   "metadata": {},
   "outputs": [],
   "source": []
  }
 ],
 "metadata": {
  "kernelspec": {
   "display_name": "Python 3 (ipykernel)",
   "language": "python",
   "name": "python3"
  },
  "language_info": {
   "codemirror_mode": {
    "name": "ipython",
    "version": 3
   },
   "file_extension": ".py",
   "mimetype": "text/x-python",
   "name": "python",
   "nbconvert_exporter": "python",
   "pygments_lexer": "ipython3",
   "version": "3.11.5"
  }
 },
 "nbformat": 4,
 "nbformat_minor": 5
}
