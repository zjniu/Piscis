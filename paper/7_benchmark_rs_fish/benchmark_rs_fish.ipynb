{
 "cells": [
  {
   "cell_type": "markdown",
   "id": "deaf90ec-fada-403c-863b-4d0948649f7b",
   "metadata": {},
   "source": [
    "# Benchmark RS-FISH"
   ]
  },
  {
   "cell_type": "code",
   "execution_count": null,
   "id": "5f6cde2c-54f5-4ab3-8465-ae311ea0ee33",
   "metadata": {},
   "outputs": [],
   "source": [
    "!pip install zarr"
   ]
  },
  {
   "cell_type": "code",
   "execution_count": null,
   "id": "d02c9125-14a1-439c-9c91-15bdfcd295e0",
   "metadata": {},
   "outputs": [],
   "source": [
    "import json\n",
    "import numpy as np\n",
    "import pandas as pd\n",
    "import subprocess\n",
    "import zarr\n",
    "\n",
    "from pathlib import Path\n",
    "\n",
    "from piscis.data import load_datasets\n",
    "from piscis.metrics import compute_metrics\n",
    "from piscis.utils import pad_and_stack"
   ]
  },
  {
   "cell_type": "code",
   "execution_count": null,
   "id": "8f9c2261-6230-4683-bf19-65ca9e577000",
   "metadata": {},
   "outputs": [],
   "source": [
    "# Define path to outputs folder.\n",
    "outputs_path = Path().absolute().parent / 'outputs'\n",
    "\n",
    "# Define paths to datasets.\n",
    "datasets_path = outputs_path / 'datasets'\n",
    "piscis_datasets_path = datasets_path / 'piscis'\n",
    "\n",
    "# Define path to benchmarks.\n",
    "benchmarks_path = outputs_path / 'benchmarks'\n",
    "benchmarks_path.mkdir(parents=True, exist_ok=True)\n",
    "\n",
    "# Define path to temporary folder.\n",
    "tmp_path = Path('tmp')\n",
    "tmp_path.mkdir(parents=True, exist_ok=True)"
   ]
  },
  {
   "cell_type": "markdown",
   "id": "62a89144-3959-45d4-b9b1-85e0e736a1fc",
   "metadata": {},
   "source": [
    "### Clone and compile the RS-FISH repository."
   ]
  },
  {
   "cell_type": "code",
   "execution_count": null,
   "id": "39815e9d-3a02-4400-970c-0692983e9da9",
   "metadata": {
    "scrolled": true
   },
   "outputs": [],
   "source": [
    "!git clone https://github.com/PreibischLab/RS-FISH-Spark tmp/RS-FISH-Spark"
   ]
  },
  {
   "cell_type": "code",
   "execution_count": null,
   "id": "144e6a66-4722-43d0-a127-e828b016a368",
   "metadata": {},
   "outputs": [],
   "source": [
    "!mvn clean package -f tmp/RS-FISH-Spark/pom.xml\n",
    "!cp tmp/RS-FISH-Spark/target/RS-Fish-jar-with-dependencies.jar ../outputs/rs-fish.jar"
   ]
  },
  {
   "cell_type": "markdown",
   "id": "03683c9f-63d1-4e81-baf4-b8be6c0fcbe2",
   "metadata": {},
   "source": [
    "### Generate N5 dataset. "
   ]
  },
  {
   "cell_type": "code",
   "execution_count": null,
   "id": "3cfe92f3-6c04-4c1f-8d9a-f1614c7a56b9",
   "metadata": {},
   "outputs": [],
   "source": [
    "# List subdatasets within the composite dataset.\n",
    "dataset = '20230905'\n",
    "subdataset_paths = tuple(Path(piscis_datasets_path / dataset).glob('*.npz'))"
   ]
  },
  {
   "cell_type": "code",
   "execution_count": null,
   "id": "8e627674-eabc-4343-a5b7-a01eb365fa0a",
   "metadata": {},
   "outputs": [],
   "source": [
    "test_ds = load_datasets(piscis_datasets_path / '20230905', adjustment='normalize', load_train=False, load_valid=False, load_test=True)['test']\n",
    "images = pad_and_stack(test_ds['images'])\n",
    "test_ds['images'] = images\n",
    "coords = test_ds['coords']"
   ]
  },
  {
   "cell_type": "code",
   "execution_count": null,
   "id": "c0c969c1-7496-41b6-aa71-878d517a6176",
   "metadata": {},
   "outputs": [],
   "source": [
    "# Save images as a N5 dataset.\n",
    "store = zarr.N5Store(tmp_path / '20230905.n5')\n",
    "root = zarr.group(store=store)\n",
    "compressor = zarr.GZip(level=-1)\n",
    "for subdataset_path in subdataset_paths:\n",
    "\n",
    "    subgroup = root.create_group(subdataset_path.stem, overwrite=True)\n",
    "    \n",
    "    test_ds = load_datasets(subdataset_path, adjustment='normalize', load_train=False, load_valid=False, load_test=True)['test']\n",
    "    images = pad_and_stack(test_ds['images'])\n",
    "    test_ds['images'] = images\n",
    "    coords = test_ds['coords']\n",
    "\n",
    "    for i, image in enumerate(images):\n",
    "        subgroup.create_dataset(i, data=image, compressor=compressor, overwrite=True)"
   ]
  },
  {
   "cell_type": "markdown",
   "id": "f344bbb9-116a-4c4d-aee8-7c9a5fc1f891",
   "metadata": {},
   "source": [
    "### Run and benchmark RS-FISH."
   ]
  },
  {
   "cell_type": "code",
   "execution_count": null,
   "id": "dba884c9-c77c-4538-acb1-a83fe951d371",
   "metadata": {},
   "outputs": [],
   "source": [
    "# Define the base command for running RS-FISH.\n",
    "base_command = [\n",
    "    'java',\n",
    "    '-cp',\n",
    "    str(outputs_path / 'rs-fish.jar'),\n",
    "    '-Xmx20G',\n",
    "    '-Dspark.driver.extraJavaOptions=-Dlog4j.configuration=file:/path/to/log4j.properties',\n",
    "    '-Dspark.master=local[8]',\n",
    "    'net.preibisch.rsfish.spark.SparkRSFISH',\n",
    "    f\"--image={str(tmp_path / f'{dataset}.n5')}\",\n",
    "    '--minIntensity=0',\n",
    "    '--maxIntensity=1',\n",
    "    '--anisotropy=1.0',\n",
    "    f\"--output={str(tmp_path / 'output.csv')}\",\n",
    "]"
   ]
  },
  {
   "cell_type": "code",
   "execution_count": null,
   "id": "d441545b-2b6a-4ef7-b152-a6a6e2172b6f",
   "metadata": {},
   "outputs": [],
   "source": [
    "# Define grid search.\n",
    "sigmas = np.linspace(1.0, 3.0, 5)\n",
    "thresholds = np.linspace(0.002, 0.04, 20)"
   ]
  },
  {
   "cell_type": "code",
   "execution_count": null,
   "id": "390df8d1-d571-4210-8eb0-4a03aec965e9",
   "metadata": {
    "scrolled": true
   },
   "outputs": [],
   "source": [
    "# Run grid search.\n",
    "f1s = {}\n",
    "for subdataset_path in subdataset_paths:\n",
    "    \n",
    "    coords = load_datasets(subdataset_path, adjustment='normalize', load_train=False, load_valid=False, load_test=True)['test']['coords']\n",
    "\n",
    "    subdataset_f1s = {}\n",
    "    f1s[subdataset_path.stem] = subdataset_f1s\n",
    "    \n",
    "    for i, c in enumerate(coords):\n",
    "        subdataset_f1s.setdefault(i, {})\n",
    "        for j, sigma in enumerate(sigmas):\n",
    "            subdataset_f1s[i].setdefault(j, {})\n",
    "            for k, threshold in enumerate(thresholds):\n",
    "                command = base_command + [f'--dataset={subdataset_path.stem}/{i}', f'--sigma={sigma}', f'--threshold={threshold}']\n",
    "                with open(tmp_path / 'output_log.txt', 'w') as output_log:\n",
    "                    result = subprocess.run(command, stdout=output_log, stderr=output_log)\n",
    "                try:\n",
    "                    csv = pd.read_csv(tmp_path / 'output.csv')\n",
    "                    c_pred = np.stack((csv['y'], csv['x']), axis=-1)\n",
    "                    if (c_pred.size > 0) and (c.size > 0):\n",
    "                        f1 = compute_metrics(c_pred, c, evaluation_metrics='f1', distance_thresholds=np.linspace(0, 3, 50))['f1']\n",
    "                    else:\n",
    "                        f1 = 0\n",
    "                except pd.errors.EmptyDataError:\n",
    "                    f1 = 0\n",
    "                subdataset_f1s[i][j][k] = f1\n",
    "                with open(benchmarks_path / 'rs_fish_f1s.json', 'w') as f:\n",
    "                    json.dump(f1s, f)"
   ]
  },
  {
   "cell_type": "code",
   "execution_count": null,
   "id": "fd9fafad-6b80-4397-8f05-b02c32adbe54",
   "metadata": {},
   "outputs": [],
   "source": []
  }
 ],
 "metadata": {
  "kernelspec": {
   "display_name": "Python 3 (ipykernel)",
   "language": "python",
   "name": "python3"
  },
  "language_info": {
   "codemirror_mode": {
    "name": "ipython",
    "version": 3
   },
   "file_extension": ".py",
   "mimetype": "text/x-python",
   "name": "python",
   "nbconvert_exporter": "python",
   "pygments_lexer": "ipython3",
   "version": "3.11.5"
  }
 },
 "nbformat": 4,
 "nbformat_minor": 5
}
