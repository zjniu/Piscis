{
 "cells": [
  {
   "cell_type": "markdown",
   "id": "c3211210-3207-4439-9d83-ead446c9af7a",
   "metadata": {},
   "source": [
    "# Benchmark Piscis"
   ]
  },
  {
   "cell_type": "code",
   "execution_count": null,
   "id": "39f9b5b7-f1c3-4a50-9f5b-d891e779b3c3",
   "metadata": {},
   "outputs": [],
   "source": [
    "import json\n",
    "import numpy as np\n",
    "\n",
    "from pathlib import Path\n",
    "\n",
    "from piscis import Piscis\n",
    "from piscis.core import adjust_parameters\n",
    "from piscis.data import load_datasets, transform_batch, transform_subdataset\n",
    "from piscis.losses import dice_loss, smoothf1_loss, weighted_bce_loss\n",
    "from piscis.metrics import compute_metrics\n",
    "from piscis.utils import pad_and_stack\n",
    "\n",
    "import os\n",
    "os.environ['XLA_PYTHON_CLIENT_PREALLOCATE'] = 'false'"
   ]
  },
  {
   "cell_type": "code",
   "execution_count": null,
   "id": "3e25cbec-7019-4cef-bd24-cbc59dabded9",
   "metadata": {},
   "outputs": [],
   "source": [
    "# Define path to outputs folder.\n",
    "outputs_path = Path().absolute().parent / 'outputs'\n",
    "\n",
    "# Define paths to datasets.\n",
    "datasets_path = outputs_path / 'datasets'\n",
    "piscis_datasets_path = datasets_path / 'piscis'\n",
    "deepblink_datasets_path = datasets_path / 'deepblink'\n",
    "\n",
    "# Define path to benchmarks.\n",
    "benchmarks_path = outputs_path / 'benchmarks'\n",
    "benchmarks_path.mkdir(parents=True, exist_ok=True)"
   ]
  },
  {
   "cell_type": "markdown",
   "id": "936fe1d5-2189-4073-aaf0-3df71b181c32",
   "metadata": {},
   "source": [
    "### Set the default threshold parameter."
   ]
  },
  {
   "cell_type": "code",
   "execution_count": null,
   "id": "c8e0461a-6e70-4111-aa06-e7e28ee44131",
   "metadata": {},
   "outputs": [],
   "source": [
    "# List deepBlink datasets.\n",
    "deepblink_datasets_list = [file.stem for file in deepblink_datasets_path.glob('*.npz')]"
   ]
  },
  {
   "cell_type": "code",
   "execution_count": null,
   "id": "4e1648fb-5212-4e73-a4b7-123f7ac6429c",
   "metadata": {},
   "outputs": [],
   "source": [
    "# Define search.\n",
    "thresholds = np.arange(0.5, 9.0, 0.5)"
   ]
  },
  {
   "cell_type": "code",
   "execution_count": null,
   "id": "5cb5c191-78c9-4810-a377-44f42281bcf4",
   "metadata": {},
   "outputs": [],
   "source": [
    "# Run search.\n",
    "f1s = {}\n",
    "for deepblink_dataset in deepblink_datasets_list:\n",
    "    \n",
    "    # Load the deepBlink valid dataset.\n",
    "    valid_ds = load_datasets(deepblink_datasets_path / f'{deepblink_dataset}.npz', adjustment=None, load_train=False, load_valid=True, load_test=False)['valid']\n",
    "    images = valid_ds['images']\n",
    "    coords = valid_ds['coords']\n",
    "\n",
    "    # Load the Piscis model.\n",
    "    model = Piscis(model_name=f'deepblink_{deepblink_dataset}')\n",
    "\n",
    "    # Run the Piscis model.\n",
    "    _, y = model.predict(images, threshold=9, intermediates=True)\n",
    "\n",
    "    dataset_f1s = []\n",
    "    f1s[deepblink_dataset] = dataset_f1s\n",
    "\n",
    "    for threshold in thresholds:\n",
    "\n",
    "        coords_pred = adjust_parameters(y, threshold)\n",
    "        \n",
    "        threshold_f1s = []\n",
    "        \n",
    "        for c_pred, c in zip(coords_pred, coords):\n",
    "            if (c_pred.size > 0) and (c.size > 0):\n",
    "                f1 = compute_metrics(c_pred, c, distance_thresholds=np.linspace(0, 3, 50), return_df=False)['f1']\n",
    "            else:\n",
    "                f1 = 0\n",
    "            threshold_f1s.append(f1)\n",
    "    \n",
    "        dataset_f1s.append(np.mean(threshold_f1s))"
   ]
  },
  {
   "cell_type": "code",
   "execution_count": null,
   "id": "8829efc9-0b16-4fa5-b7a7-8308a086cfd6",
   "metadata": {},
   "outputs": [],
   "source": [
    "# Default threshold.\n",
    "default_threshold = thresholds[np.argmax(np.sum(np.array(list(f1s.values())), axis=0))]\n",
    "default_threshold"
   ]
  },
  {
   "cell_type": "markdown",
   "id": "85469d49-ab30-4eff-b7f2-26e6b4c2ae23",
   "metadata": {},
   "source": [
    "### Run and benchmark Piscis on Piscis dataset."
   ]
  },
  {
   "cell_type": "code",
   "execution_count": null,
   "id": "638f82a3-2326-4200-9175-12b968e84830",
   "metadata": {},
   "outputs": [],
   "source": [
    "# Create dictionaries for F1 scores.\n",
    "f1s = {}\n",
    "dice_f1s = {}"
   ]
  },
  {
   "cell_type": "code",
   "execution_count": null,
   "id": "9e1a86c3-7319-484c-b923-8fdd2aa09a6b",
   "metadata": {},
   "outputs": [],
   "source": [
    "# List subdatasets within the composite dataset.\n",
    "dataset = '20230905'\n",
    "subdataset_paths = list(Path(piscis_datasets_path / dataset).glob('*.npz'))"
   ]
  },
  {
   "cell_type": "code",
   "execution_count": null,
   "id": "44ff1ad5-825a-4bef-9f9f-5603ff095e7e",
   "metadata": {},
   "outputs": [],
   "source": [
    "# Loop through Piscis models trained using different loss functions.\n",
    "for suffix in ['', '_dice', '_bce', '_focal']:\n",
    "\n",
    "    # Load the Piscis model.\n",
    "    model = Piscis(model_name=f'{dataset}{suffix}')\n",
    "\n",
    "    dataset_f1s = {}\n",
    "    f1s[dataset] = dataset_f1s\n",
    "\n",
    "    for subdataset_path in subdataset_paths:\n",
    "    \n",
    "        subdataset = subdataset_path.stem\n",
    "    \n",
    "        # Load the test dataset.\n",
    "        test_ds = load_datasets(subdataset_path, load_train=False, load_valid=False, load_test=True)['test']\n",
    "        images = pad_and_stack(test_ds['images'])\n",
    "        test_ds['images'] = images\n",
    "        coords = test_ds['coords']\n",
    "    \n",
    "        subdataset_f1s = []\n",
    "        dataset_f1s[subdataset] = subdataset_f1s\n",
    "    \n",
    "        # Run the Piscis models.\n",
    "        if suffix in ['_dice', '_focal']:\n",
    "            coords_pred = model.predict(images, threshold=0.5)\n",
    "        elif suffix == '_bce':\n",
    "            coords_pred = model.predict(images, threshold=0.95)\n",
    "        else:\n",
    "            coords_pred = model.predict(images, threshold=default_threshold)\n",
    "        \n",
    "        for c_pred, c in zip(coords_pred, coords):\n",
    "            if (c_pred.size > 0) and (c.size > 0):\n",
    "                f1 = compute_metrics(c_pred, c, distance_thresholds=np.linspace(0, 3, 50), return_df=False)['f1']\n",
    "            else:\n",
    "                f1 = 0\n",
    "            subdataset_f1s.append(f1)\n",
    "    \n",
    "        with open(benchmarks_path / f'piscis{suffix}_f1s.json', 'w') as f:\n",
    "            json.dump(f1s, f)"
   ]
  },
  {
   "cell_type": "markdown",
   "id": "790ec7a9-d8e0-4f9d-8395-307dcabcb566",
   "metadata": {},
   "source": [
    "### Run and benchmark Piscis on deepBlink datasets."
   ]
  },
  {
   "cell_type": "code",
   "execution_count": null,
   "id": "12f2f746-90d6-46aa-b438-069f4f6805d5",
   "metadata": {},
   "outputs": [],
   "source": [
    "with open(benchmarks_path / 'piscis_f1s.json', 'r') as f:\n",
    "    f1s = json.load(f)\n",
    "\n",
    "for deepblink_dataset_path in deepblink_datasets_path.glob('*'):\n",
    "\n",
    "    deepblink_dataset = deepblink_dataset_path.stem\n",
    "    \n",
    "    # Load the test dataset.\n",
    "    test_ds = load_datasets(deepblink_dataset_path, load_train=False, load_valid=False, load_test=True)['test']\n",
    "    test_ds = transform_subdataset(test_ds, (512, 512), min_spots=1)\n",
    "    images = test_ds['images'].squeeze()\n",
    "    coords = test_ds['coords']\n",
    "\n",
    "    # Load the Piscis model.\n",
    "    model = Piscis(model_name=f'deepblink_{deepblink_dataset}')\n",
    "\n",
    "    # Run the Piscis model.\n",
    "    coords_pred = model.predict(images, threshold=default_threshold)\n",
    "\n",
    "    deepblink_dataset_f1s = []\n",
    "    f1s[deepblink_dataset] = deepblink_dataset_f1s\n",
    "\n",
    "    for c_pred, c in zip(coords_pred, coords):\n",
    "        if (c_pred.size > 0) and (c.size > 0):\n",
    "            f1 = compute_metrics(c_pred, c, distance_thresholds=np.linspace(0, 3, 50))['f1']\n",
    "        else:\n",
    "            f1 = 0\n",
    "        deepblink_dataset_f1s.append(f1)\n",
    "    \n",
    "    with open(benchmarks_path / 'piscis_f1s.json', 'w') as f:\n",
    "        json.dump(f1s, f)"
   ]
  },
  {
   "cell_type": "markdown",
   "id": "1313f540-8742-4034-801a-858fbc5244df",
   "metadata": {},
   "source": [
    "### Compare F1 score estimation between SmoothF1 and Dice loss functions."
   ]
  },
  {
   "cell_type": "code",
   "execution_count": null,
   "id": "7ff81f33-4a2c-4704-9a8a-d572eefd7c8a",
   "metadata": {},
   "outputs": [],
   "source": [
    "# Load the Piscis train dataset.\n",
    "train_ds = load_datasets(piscis_datasets_path / dataset, adjustment=None, load_train=True, load_valid=False, load_test=False)['train']\n",
    "images = pad_and_stack(train_ds['images'])\n",
    "train_ds['images'] = images\n",
    "coords = train_ds['coords']"
   ]
  },
  {
   "cell_type": "code",
   "execution_count": null,
   "id": "f6260c63-943d-4c55-95db-0f55725676a5",
   "metadata": {},
   "outputs": [],
   "source": [
    "# Compute -SmoothF1, -Dice, and F1 scores.\n",
    "\n",
    "# Load the Piscis model.\n",
    "model = Piscis(model_name=dataset)\n",
    "\n",
    "# Run the Piscis model.\n",
    "coords_pred, y = model.predict(images, intermediates=True)\n",
    "coords_pad_length = max((len(c) for c in coords))\n",
    "\n",
    "f1s = []\n",
    "smoothf1s = []\n",
    "\n",
    "for i in range(len(images)):\n",
    "    batch = {k: v[i:i + 1] for k, v in train_ds.items()}\n",
    "    transformed_batch = transform_batch(batch, coords_pad_length)\n",
    "    deltas = np.moveaxis(y[i, :2].to_numpy(), 0, -1)\n",
    "    labels = np.moveaxis(y[i, 2:3].to_numpy(), 0, -1)\n",
    "    smoothf1 = smoothf1_loss(deltas, labels, transformed_batch['deltas'][0], transformed_batch['labels'][0], 1, 3.0)\n",
    "    smoothf1s.append(-float(smoothf1))\n",
    "    c_pred = coords_pred[i]\n",
    "    c = coords[i]\n",
    "    if (c_pred.size > 0) and (c.size > 0):\n",
    "        f1 = compute_metrics(c_pred, c, distance_thresholds=np.linspace(0, 3, 50))['f1']\n",
    "    else:\n",
    "        f1 = 0\n",
    "    f1s.append(f1)\n",
    "\n",
    "with open(benchmarks_path / 'piscis_train_smoothf1.json', 'w') as f:\n",
    "    json.dump({'f1s': f1s, 'smoothf1s': smoothf1s}, f)"
   ]
  },
  {
   "cell_type": "code",
   "execution_count": null,
   "id": "06361d43-750e-4d3b-b332-e16ec5ed86d2",
   "metadata": {},
   "outputs": [],
   "source": [
    "# Compute -Dice and F1 scores.\n",
    "\n",
    "# Load the Piscis model.\n",
    "model = Piscis(model_name=f'{dataset}_dice')\n",
    "\n",
    "# Run the Piscis model.\n",
    "coords_pred, y = model.predict(images, threshold=0.5, intermediates=True)\n",
    "coords_pad_length = max((len(c) for c in coords))\n",
    "\n",
    "f1s = []\n",
    "dices = []\n",
    "\n",
    "for i in range(len(images)):\n",
    "    batch = {k: v[i:i + 1] for k, v in train_ds.items()}\n",
    "    transformed_batch = transform_batch(batch, dilation_iterations=0, coords_pad_length=coords_pad_length)\n",
    "    deltas = np.moveaxis(y[i, :2].to_numpy(), 0, -1)\n",
    "    labels = np.moveaxis(y[i, 2:3].to_numpy(), 0, -1)\n",
    "    dice = dice_loss(labels, transformed_batch['labels'][0])\n",
    "    dices.append(-float(dice))\n",
    "    c_pred = coords_pred[i]\n",
    "    c = coords[i]\n",
    "    if (c_pred.size > 0) and (c.size > 0):\n",
    "        f1 = compute_metrics(c_pred, c, distance_thresholds=np.linspace(0, 3, 50))['f1']\n",
    "    else:\n",
    "        f1 = 0\n",
    "    f1s.append(f1)\n",
    "\n",
    "with open(benchmarks_path / 'piscis_train_dice.json', 'w') as f:\n",
    "    json.dump({'f1s': f1s, 'dices': dices}, f)"
   ]
  },
  {
   "cell_type": "code",
   "execution_count": null,
   "id": "70490b2d-7e61-445a-a502-24287d745023",
   "metadata": {},
   "outputs": [],
   "source": []
  }
 ],
 "metadata": {
  "kernelspec": {
   "display_name": "Python 3 (ipykernel)",
   "language": "python",
   "name": "python3"
  },
  "language_info": {
   "codemirror_mode": {
    "name": "ipython",
    "version": 3
   },
   "file_extension": ".py",
   "mimetype": "text/x-python",
   "name": "python",
   "nbconvert_exporter": "python",
   "pygments_lexer": "ipython3",
   "version": "3.11.4"
  }
 },
 "nbformat": 4,
 "nbformat_minor": 5
}
