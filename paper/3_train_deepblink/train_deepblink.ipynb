{
 "cells": [
  {
   "cell_type": "markdown",
   "id": "f43cd065-6c64-45fb-a083-27f651f232be",
   "metadata": {},
   "source": [
    "# Train deepBlink"
   ]
  },
  {
   "cell_type": "code",
   "execution_count": null,
   "id": "b7b54937-67f5-40ec-abcb-f98adb0028c5",
   "metadata": {},
   "outputs": [],
   "source": [
    "import requests\n",
    "import subprocess\n",
    "import yaml\n",
    "\n",
    "from pathlib import Path"
   ]
  },
  {
   "cell_type": "code",
   "execution_count": null,
   "id": "bfbde56b-e317-4012-84f7-1c3254990f8b",
   "metadata": {},
   "outputs": [],
   "source": [
    "# Define path to outputs folder.\n",
    "outputs_path = Path().absolute().parent / 'outputs'\n",
    "\n",
    "# Define paths to datasets.\n",
    "datasets_path = outputs_path / 'datasets'\n",
    "piscis_datasets_path = datasets_path / 'piscis'\n",
    "\n",
    "# Define path to deepBlink models.\n",
    "deepblink_models_path = outputs_path / 'deepblink_models'\n",
    "deepblink_models_path.mkdir(parents=True, exist_ok=True)\n",
    "\n",
    "# Define path to temporary folder.\n",
    "tmp_path = Path('tmp')\n",
    "tmp_path.mkdir(parents=True, exist_ok=True)"
   ]
  },
  {
   "cell_type": "code",
   "execution_count": null,
   "id": "9a862517-2b07-4c71-b98c-f86a6409c04f",
   "metadata": {},
   "outputs": [],
   "source": [
    "!pip install deepblink"
   ]
  },
  {
   "cell_type": "markdown",
   "id": "c1ad5ce5-f5e2-4399-acd5-3a2dc7d9ea77",
   "metadata": {},
   "source": [
    "### Download pretrained deepBlink models."
   ]
  },
  {
   "cell_type": "code",
   "execution_count": null,
   "id": "226b92a7-0871-4d2a-bdfc-154d75e854bd",
   "metadata": {},
   "outputs": [],
   "source": [
    "# Define the URL for the Figshare API.\n",
    "api_url = f'https://api.figshare.com/v2/articles/12958127'\n",
    "\n",
    "# Get a list of files from Figshare.\n",
    "files = requests.get(api_url).json()['files']\n",
    "\n",
    "# Loop through files and download.\n",
    "for file in files:\n",
    "    file_name = file['name']\n",
    "    if file_name.startswith('deepblink'):\n",
    "        download_url = file['download_url']\n",
    "        response = requests.get(download_url, stream=True)\n",
    "        response.raise_for_status()\n",
    "        with open(deepblink_models_path / file_name, 'wb') as handle:\n",
    "            for block in response.iter_content(1024):\n",
    "                handle.write(block)"
   ]
  },
  {
   "cell_type": "markdown",
   "id": "f0f351c6-db63-42f6-a3d9-844fe07e33df",
   "metadata": {},
   "source": [
    "### Train deepBlink with the Piscis dataset."
   ]
  },
  {
   "cell_type": "code",
   "execution_count": null,
   "id": "8b59064d-c746-48d4-9707-6f09bd9263d9",
   "metadata": {},
   "outputs": [],
   "source": [
    "# Generate training config file.\n",
    "subprocess.run(['deepblink', 'config'], cwd=tmp_path)\n",
    "\n",
    "# Load training config file.\n",
    "with open(tmp_path / 'config.yaml', 'r') as f:\n",
    "    config = yaml.safe_load(f)\n",
    "\n",
    "# Set dataset name and save directory.\n",
    "config['dataset_args']['name']['value'] = str(piscis_datasets_path / '20230905' / 'combined' / '20230905_combined.npz')\n",
    "config['savedir']['value'] = str(deepblink_models_path)\n",
    "config['train_args']['epochs']['value'] = 400"
   ]
  },
  {
   "cell_type": "code",
   "execution_count": null,
   "id": "4fe44104-7930-4517-bb5a-3af0bb9c53d6",
   "metadata": {},
   "outputs": [],
   "source": [
    "# Define grid cell sizes.\n",
    "cell_sizes = (1, 2, 4)\n",
    "\n",
    "# Train deepBlink for each grid cell size.\n",
    "for cell_size in cell_sizes:\n",
    "\n",
    "    # Set grid cell size.\n",
    "    config['dataset_args']['cell_size']['value'] = cell_size\n",
    "    config['run_name']['value'] = f'20230905_cell_size_{cell_size}'\n",
    "\n",
    "    config_path = tmp_path / f'config_cell_size_{cell_size}.yaml'\n",
    "    with open(config_path, 'w') as f:\n",
    "        yaml.safe_dump(config, f)\n",
    "\n",
    "    with open(tmp_path / f'stdout_cell_size_{cell_size}.txt', 'w') as stdout_file, open(tmp_path / f'stderr_cell_size_{cell_size}.txt', 'w') as stderr_file:\n",
    "        subprocess.run(['deepblink', 'train', '-c', config_path], stdout=stdout_file, stderr=stderr_file)"
   ]
  },
  {
   "cell_type": "code",
   "execution_count": null,
   "id": "56ff0400-ccdf-413c-be13-67fe515c3315",
   "metadata": {},
   "outputs": [],
   "source": []
  }
 ],
 "metadata": {
  "kernelspec": {
   "display_name": "Python 3 (ipykernel)",
   "language": "python",
   "name": "python3"
  },
  "language_info": {
   "codemirror_mode": {
    "name": "ipython",
    "version": 3
   },
   "file_extension": ".py",
   "mimetype": "text/x-python",
   "name": "python",
   "nbconvert_exporter": "python",
   "pygments_lexer": "ipython3",
   "version": "3.11.5"
  }
 },
 "nbformat": 4,
 "nbformat_minor": 5
}
