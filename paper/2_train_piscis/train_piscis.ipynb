{
 "cells": [
  {
   "cell_type": "markdown",
   "id": "4d7bea06-e332-4818-8d23-6ee426e1a53d",
   "metadata": {},
   "source": [
    "# Train Piscis"
   ]
  },
  {
   "cell_type": "code",
   "execution_count": null,
   "id": "6f5a34c6-05a8-4287-a5e2-384a37c553ab",
   "metadata": {},
   "outputs": [],
   "source": [
    "from pathlib import Path\n",
    "\n",
    "from piscis.training import train_model"
   ]
  },
  {
   "cell_type": "code",
   "execution_count": null,
   "id": "56430616-1213-4ef0-af68-90f488822e64",
   "metadata": {},
   "outputs": [],
   "source": [
    "# Define paths to datasets.\n",
    "datasets_path = Path().absolute().parent / 'outputs' / 'datasets'\n",
    "piscis_datasets_path = datasets_path / 'piscis'\n",
    "deepblink_datasets_path = datasets_path / 'deepblink'"
   ]
  },
  {
   "cell_type": "markdown",
   "id": "6aaf5124-8e80-4d5a-b636-0affa9a3c262",
   "metadata": {},
   "source": [
    "### Train Piscis with the Piscis dataset."
   ]
  },
  {
   "cell_type": "code",
   "execution_count": null,
   "id": "7829d097-d694-476c-9bfb-79ec688fb733",
   "metadata": {
    "scrolled": true
   },
   "outputs": [],
   "source": [
    "# Model trained with the SmoothF1 loss (default).\n",
    "train_model(\n",
    "    model_name='20230905',\n",
    "    dataset_path=piscis_datasets_path / '20230905',\n",
    "    loss_weights={'l2': 0.25, 'smoothf1': 1.0}\n",
    ")"
   ]
  },
  {
   "cell_type": "code",
   "execution_count": null,
   "id": "66c6ea3d-e7df-47dc-941b-fde8058ab434",
   "metadata": {
    "scrolled": true
   },
   "outputs": [],
   "source": [
    "# Model trained with the Dice loss.\n",
    "train_model(\n",
    "    model_name='20230905_dice',\n",
    "    dataset_path=piscis_datasets_path / '20230905',\n",
    "    dilation_iterations=0,\n",
    "    loss_weights={'l2': 0.25, 'dice': 1.0}\n",
    ")"
   ]
  },
  {
   "cell_type": "markdown",
   "id": "dc651fa9-aa23-4143-b902-d7d4d4534b67",
   "metadata": {},
   "source": [
    "### Train Piscis with the deepBlink datasets."
   ]
  },
  {
   "cell_type": "code",
   "execution_count": null,
   "id": "0300912d-181f-4ce7-88cb-3f3045d38d18",
   "metadata": {
    "scrolled": true
   },
   "outputs": [],
   "source": [
    "train_model(\n",
    "    model_name='deepblink_smfish',\n",
    "    dataset_path=deepblink_datasets_path / 'smfish.npz',\n",
    "    input_size=(512, 512),\n",
    "    loss_weights={'l2': 0.25, 'smoothf1': 1.0},\n",
    "    epochs=200\n",
    ")"
   ]
  },
  {
   "cell_type": "code",
   "execution_count": null,
   "id": "d93baaa2-5bd8-4486-9fdf-7b802d7be3d8",
   "metadata": {
    "scrolled": true
   },
   "outputs": [],
   "source": [
    "train_model(\n",
    "    model_name='deepblink_suntag',\n",
    "    dataset_path=deepblink_datasets_path / 'suntag.npz',\n",
    "    input_size=(512, 512),\n",
    "    loss_weights={'l2': 0.25, 'smoothf1': 1.0},\n",
    "    epochs=200\n",
    ")"
   ]
  },
  {
   "cell_type": "code",
   "execution_count": null,
   "id": "df91dc92-58d0-4477-913a-305905edd4bc",
   "metadata": {
    "scrolled": true
   },
   "outputs": [],
   "source": [
    "train_model(\n",
    "    model_name='deepblink_particle',\n",
    "    dataset_path=deepblink_datasets_path / 'particle.npz',\n",
    "    input_size=(512, 512),\n",
    "    loss_weights={'l2': 0.25, 'smoothf1': 1.0},\n",
    "    epochs=200\n",
    ")"
   ]
  },
  {
   "cell_type": "code",
   "execution_count": null,
   "id": "01f2821c-c3fd-4136-b81a-78e56edb6be1",
   "metadata": {
    "scrolled": true
   },
   "outputs": [],
   "source": [
    "train_model(\n",
    "    model_name='deepblink_microtubule',\n",
    "    dataset_path=deepblink_datasets_path / 'microtubule.npz',\n",
    "    input_size=(512, 512),\n",
    "    loss_weights={'l2': 0.25, 'smoothf1': 1.0},\n",
    "    epochs=200\n",
    ")"
   ]
  },
  {
   "cell_type": "code",
   "execution_count": null,
   "id": "4e812a10-4b7d-4b6a-8c36-26e85650ed58",
   "metadata": {
    "scrolled": true
   },
   "outputs": [],
   "source": [
    "train_model(\n",
    "    model_name='deepblink_receptor',\n",
    "    dataset_path=deepblink_datasets_path / 'receptor.npz',\n",
    "    input_size=(512, 512),\n",
    "    loss_weights={'l2': 0.25, 'smoothf1': 1.0},\n",
    "    epochs=200\n",
    ")"
   ]
  },
  {
   "cell_type": "code",
   "execution_count": null,
   "id": "ff100668-1ff6-49d1-b2be-a4f83fbe3d47",
   "metadata": {
    "scrolled": true
   },
   "outputs": [],
   "source": [
    "train_model(\n",
    "    model_name='deepblink_vesicle',\n",
    "    dataset_path=deepblink_datasets_path / 'vesicle.npz',\n",
    "    input_size=(512, 512),\n",
    "    loss_weights={'l2': 0.25, 'smoothf1': 1.0},\n",
    "    epochs=200\n",
    ")"
   ]
  },
  {
   "cell_type": "code",
   "execution_count": null,
   "id": "c0e9d232-e68e-4546-ad48-888253d03ea8",
   "metadata": {},
   "outputs": [],
   "source": []
  }
 ],
 "metadata": {
  "kernelspec": {
   "display_name": "Python 3 (ipykernel)",
   "language": "python",
   "name": "python3"
  },
  "language_info": {
   "codemirror_mode": {
    "name": "ipython",
    "version": 3
   },
   "file_extension": ".py",
   "mimetype": "text/x-python",
   "name": "python",
   "nbconvert_exporter": "python",
   "pygments_lexer": "ipython3",
   "version": "3.11.5"
  }
 },
 "nbformat": 4,
 "nbformat_minor": 5
}
