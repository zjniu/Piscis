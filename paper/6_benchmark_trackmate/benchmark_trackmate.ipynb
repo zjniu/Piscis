{
 "cells": [
  {
   "cell_type": "markdown",
   "id": "deaf90ec-fada-403c-863b-4d0948649f7b",
   "metadata": {},
   "source": [
    "# Benchmark Trackmate"
   ]
  },
  {
   "cell_type": "code",
   "execution_count": null,
   "id": "0a6c87fc-5ec3-4649-8daf-53b611145b9a",
   "metadata": {},
   "outputs": [],
   "source": [
    "!pip install pyimagej"
   ]
  },
  {
   "cell_type": "code",
   "execution_count": null,
   "id": "d02c9125-14a1-439c-9c91-15bdfcd295e0",
   "metadata": {},
   "outputs": [],
   "source": [
    "import imagej\n",
    "import json\n",
    "import numpy as np\n",
    "import pandas as pd\n",
    "import tifffile\n",
    "\n",
    "from pathlib import Path\n",
    "\n",
    "from piscis.data import load_datasets\n",
    "from piscis.metrics import compute_metrics\n",
    "from piscis.utils import pad_and_stack"
   ]
  },
  {
   "cell_type": "code",
   "execution_count": null,
   "id": "8f9c2261-6230-4683-bf19-65ca9e577000",
   "metadata": {},
   "outputs": [],
   "source": [
    "# Define path to outputs folder.\n",
    "outputs_path = Path().absolute().parent / 'outputs'\n",
    "\n",
    "# Define paths to datasets.\n",
    "datasets_path = outputs_path / 'datasets'\n",
    "piscis_datasets_path = datasets_path / 'piscis'\n",
    "\n",
    "# Define path to benchmarks.\n",
    "benchmarks_path = outputs_path / 'benchmarks'\n",
    "benchmarks_path.mkdir(parents=True, exist_ok=True)\n",
    "\n",
    "# Define path to temporary folder.\n",
    "tmp_path = Path('tmp')\n",
    "tmp_path.mkdir(parents=True, exist_ok=True)"
   ]
  },
  {
   "cell_type": "markdown",
   "id": "f344bbb9-116a-4c4d-aee8-7c9a5fc1f891",
   "metadata": {},
   "source": [
    "### Run and benchmark Trackmate."
   ]
  },
  {
   "cell_type": "code",
   "execution_count": null,
   "id": "bcf1a30f-d676-45d9-a80e-918fce69de43",
   "metadata": {},
   "outputs": [],
   "source": [
    "# Initialize FIJI environment.\n",
    "ij = imagej.init('sc.fiji:fiji')"
   ]
  },
  {
   "cell_type": "code",
   "execution_count": null,
   "id": "8c9d44ad-edb0-494f-8e97-f827ad973acb",
   "metadata": {},
   "outputs": [],
   "source": [
    "# Define the Groovy script for running Trackmate.\n",
    "script = \"\"\"\n",
    "//@double radius\n",
    "//@double threshold\n",
    "\n",
    "System.out = new PrintStream(new OutputStream() {\n",
    "    public void write(int b) {\n",
    "        // NO-OP\n",
    "    }\n",
    "})\n",
    "\n",
    "import ij.IJ\n",
    "import fiji.plugin.trackmate.Model\n",
    "import fiji.plugin.trackmate.Settings\n",
    "import fiji.plugin.trackmate.TrackMate\n",
    "import fiji.plugin.trackmate.detection.LogDetectorFactory\n",
    "\n",
    "// Assume you want the current image or specify path with IJ.openImage(path)\n",
    "imp = IJ.openImage('tmp/image.tif')\n",
    "\n",
    "import fiji.plugin.trackmate.Model\n",
    "import fiji.plugin.trackmate.Settings\n",
    "import fiji.plugin.trackmate.TrackMate\n",
    "\n",
    "import fiji.plugin.trackmate.detection.LogDetectorFactory\n",
    "\n",
    "// Swap Z and T dimensions if T=1\n",
    "dims = imp.getDimensions() // default order: XYCZT\n",
    "if (dims[4] == 1) {\n",
    "    imp.setDimensions(dims[2], dims[4], dims[3])\n",
    "}\n",
    "\n",
    "// Setup settings for TrackMate\n",
    "settings = new Settings(imp)\n",
    "\n",
    "settings.detectorFactory = new LogDetectorFactory()\n",
    "settings.detectorSettings = settings.detectorFactory.getDefaultSettings()\n",
    "settings.detectorSettings['RADIUS'] = radius\n",
    "settings.detectorSettings['THRESHOLD'] = threshold\n",
    "\n",
    "// Run TrackMate for spot detection\n",
    "model = new Model()\n",
    "trackmate = new TrackMate(model, settings)\n",
    "\n",
    "trackmate.process()\n",
    "\n",
    "// Get spots and their coordinates\n",
    "spots = model.getSpots().iterable(true)\n",
    "spotCoordinates = []\n",
    "\n",
    "spots.each { spot ->\n",
    "    coord = [spot.getDoublePosition(0).toString(), spot.getDoublePosition(1).toString(), spot.getDoublePosition(2).toString()]\n",
    "    spotCoordinates.add(coord)\n",
    "}\n",
    "\n",
    "spotCoordinates\n",
    "\"\"\""
   ]
  },
  {
   "cell_type": "code",
   "execution_count": null,
   "id": "bab8d557-306b-49c2-be59-d3196b7d6a4a",
   "metadata": {},
   "outputs": [],
   "source": [
    "# List subdatasets within the composite dataset.\n",
    "dataset = '20230905'\n",
    "subdataset_paths = Path(piscis_datasets_path / dataset).glob('*.npz')"
   ]
  },
  {
   "cell_type": "code",
   "execution_count": null,
   "id": "d441545b-2b6a-4ef7-b152-a6a6e2172b6f",
   "metadata": {},
   "outputs": [],
   "source": [
    "# Define grid search.\n",
    "radii = np.linspace(1.0, 3.0, 5)\n",
    "thresholds = np.linspace(0.02, 0.4, 20)"
   ]
  },
  {
   "cell_type": "code",
   "execution_count": null,
   "id": "390df8d1-d571-4210-8eb0-4a03aec965e9",
   "metadata": {
    "scrolled": true
   },
   "outputs": [],
   "source": [
    "# Run grid search.\n",
    "f1s = {}\n",
    "for subdataset_path in subdataset_paths:\n",
    "\n",
    "    test_ds = load_datasets(subdataset_path, adjustment='normalize', load_train=False, load_valid=False, load_test=True)['test']\n",
    "    images = pad_and_stack(test_ds['images'])\n",
    "    test_ds['images'] = images\n",
    "    coords = test_ds['coords']\n",
    "\n",
    "    subdataset_f1s = {}\n",
    "    f1s[subdataset_path.stem] = subdataset_f1s\n",
    "    \n",
    "    for i, (image, c) in enumerate(zip(images, coords)):\n",
    "        tifffile.imwrite(tmp_path / 'image.tif', image.astype(np.float32))\n",
    "        subdataset_f1s.setdefault(i, {})\n",
    "        for j, radius in enumerate(radii):\n",
    "            subdataset_f1s[i].setdefault(j, {})\n",
    "            for k, threshold in enumerate(thresholds):\n",
    "                args = {'radius': float(radius), 'threshold': float(threshold)}\n",
    "                result = ij.py.run_script('groovy', script, args).getOutput('result')\n",
    "                c_pred = np.array([[float(str(string)) for string in list(row)[1::-1]] for row in result])\n",
    "                if (c_pred.size > 0) and (c.size > 0):\n",
    "                    f1 = compute_metrics(c_pred, c, evaluation_metrics='f1', distance_thresholds=np.linspace(0, 3, 50))['f1']\n",
    "                else:\n",
    "                    f1 = 0\n",
    "                subdataset_f1s[i][j][k] = f1\n",
    "                with open(benchmarks_path / 'trackmate_f1s.json', 'w') as f:\n",
    "                    json.dump(f1s, f)"
   ]
  },
  {
   "cell_type": "code",
   "execution_count": null,
   "id": "c9c44716-9ca3-4273-96c5-e8751157172b",
   "metadata": {},
   "outputs": [],
   "source": []
  }
 ],
 "metadata": {
  "kernelspec": {
   "display_name": "Python 3 (ipykernel)",
   "language": "python",
   "name": "python3"
  },
  "language_info": {
   "codemirror_mode": {
    "name": "ipython",
    "version": 3
   },
   "file_extension": ".py",
   "mimetype": "text/x-python",
   "name": "python",
   "nbconvert_exporter": "python",
   "pygments_lexer": "ipython3",
   "version": "3.11.5"
  }
 },
 "nbformat": 4,
 "nbformat_minor": 5
}
